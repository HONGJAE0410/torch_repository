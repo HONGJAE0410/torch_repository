{
 "cells": [
  {
   "cell_type": "code",
   "execution_count": 6,
   "metadata": {},
   "outputs": [],
   "source": [
    "import torch \n",
    "import torch.nn as nn\n",
    "import torch.nn.functional as F\n",
    "import torch.backends.cudnn as cudnn\n",
    "import torch.optim as optim\n",
    "import os \n",
    "\n",
    "device = torch.device('mps')"
   ]
  },
  {
   "cell_type": "markdown",
   "metadata": {},
   "source": [
    "## Resnet- 18 층 구현 \n",
    "1. 블록구현\n",
    "2. 데이터 불러오기\n",
    "3. 모델 학습 \n",
    "\n",
    "### resnet 층 1개 구조\n",
    "![resnet](/Users/mac/AIworkspace/torchspace/resnet/image/resnet_st.png)\n",
    "- each convolution + batch normalization + activation \n",
    "\n",
    "\n",
    "### 모델 구조\n",
    "![resnet_structure](/Users/mac/AIworkspace/torchspace/resnet/image/resnet.png)"
   ]
  },
  {
   "cell_type": "code",
   "execution_count": 8,
   "metadata": {},
   "outputs": [],
   "source": [
    "\n",
    "class BasicBlock(nn.Module):\n",
    "    def __init__(self, in_planes, planes, stride=1):\n",
    "        super(BasicBlock, self).__init__()\n",
    "\n",
    "        ## 3x3 필터를 사용\n",
    "        self.conv1 =  nn.Conv2d(in_planes, planes, kernel_size=3, stride=stride, padding=1 , bias=False )\n",
    "        self.bin1 = nn.BatchNorm2d(planes)\n",
    "\n",
    "        self.conv2 = nn.Conv2d(planes, planes, kernel_size=3, stride=1, padding=1, bias=False)\n",
    "        self.bin2 = nn.BatchNorm2d(planes)\n",
    "\n",
    "        # 입력값 그대로 출력하는 경우\n",
    "        self.shortcut = nn.Sequential() # 항등함수인 경우 : 입력값 그대로 출력()\n",
    "        \n",
    "        # 항등함수가 아닌경우 : 차원을 맞춰주기 위해 1x1 conv 사용 , stride = 2인경우\n",
    "        if stride != 1 or in_planes != planes :\n",
    "            self.shortcut = nn.Sequential(\n",
    "                nn.Conv2d(in_planes, planes, kernel_size=1 , stride=stride , bias=False),\n",
    "                nn.BatchNorm2d(planes)\n",
    "            )\n",
    "    # forward : 잔차 + skip connection\n",
    "    def forward(self, x):\n",
    "        out = F.relu(self.bin1(self.conv1(x))) # 첫번째 conv -> batch -> relu\n",
    "        out = self.bin2(self.conv2(out))\n",
    "        out += x # 첫 입력값을 더함 = skip connection\n",
    "        out = F.relu(out)\n",
    "        return out\n",
    "\n",
    "    "
   ]
  },
  {
   "cell_type": "code",
   "execution_count": null,
   "metadata": {},
   "outputs": [],
   "source": [
    "class RensNet(nn.Module()):\n",
    "    def __init__(self, block, num_blocks, num_classes =10):\n",
    "        super(RensNet, self).__init__()\n",
    "        self.in_planes = 16 # 첫번째 conv layer의 input channel 수\n",
    "\n",
    "        self.conv1 = nn.Conv2d(3, 64, kernel_size=3 , stride=1, padding = 1 , bais = False)\n",
    "        slef.bin1 = nn.Ba"
   ]
  },
  {
   "cell_type": "code",
   "execution_count": null,
   "metadata": {},
   "outputs": [],
   "source": []
  }
 ],
 "metadata": {
  "kernelspec": {
   "display_name": "torch_env",
   "language": "python",
   "name": "python3"
  },
  "language_info": {
   "codemirror_mode": {
    "name": "ipython",
    "version": 3
   },
   "file_extension": ".py",
   "mimetype": "text/x-python",
   "name": "python",
   "nbconvert_exporter": "python",
   "pygments_lexer": "ipython3",
   "version": "3.12.8"
  }
 },
 "nbformat": 4,
 "nbformat_minor": 2
}
